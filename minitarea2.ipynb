{
  "nbformat": 4,
  "nbformat_minor": 0,
  "metadata": {
    "colab": {
      "name": "minitarea2.ipynb",
      "version": "0.3.2",
      "provenance": []
    },
    "kernelspec": {
      "display_name": "Python 2",
      "language": "python",
      "name": "python2"
    }
  },
  "cells": [
    {
      "metadata": {
        "id": "-Mg5YNv0pA16",
        "colab_type": "text"
      },
      "cell_type": "markdown",
      "source": [
        "# EI2001: Ciencia de Datos en Astronomía\n",
        "\n",
        "**Profesores:** Pía Cortés, Daniela Barrientos, Matías Suazo, Matías Mattamala\n",
        "\n",
        "## Minitarea 2: Uso de NumPy y matplotlib\n",
        "\n",
        "**Objetivos:**\n",
        "\n",
        "1. Poner en práctica el uso de librerías en python (específicamente NumPy y matplotlib)\n",
        "2. Familiarizarse con el concepto de ndarray\n",
        "3. Realizar gráficos personalizados\n",
        "\n",
        "\n",
        "**Instrucciones:**\n",
        "\n",
        "1. Lean cuidadosamente todo lo que viene ahora\n",
        "2. Para hacer esta tarea deben que hacer un **fork** del repositorio en sus cuentas de GitHub.\n",
        "4. Abrir [Google Colab](https://colab.research.google.com) y seleccionar \"abrir un archivo desde GitHub\". Deben seleccionar su cuenta Github y escoger el repositorio que corresponde al fork que hicieron.\n",
        "5. Si todo sale bien, debería abrirse una copia de este notebook en su cuenta de Google Colab.\n",
        "6. Se adjuntan 6 mini actividades a completar. **TODAS** son necesarias y deben completar lo que se va pidiendo.\n",
        "7. Cada vez que completen un ítem, deben guardar un avance en su fork de GitHub, de modo de **respaldar cada avance significativo**. Usen comentarios coherentes con cada respaldo \"Sección 1 completa\", \"Tarea terminada\", no solamente el que pone por defecto.\n",
        "\n"
      ]
    },
    {
      "metadata": {
        "id": "eYlcJMdkpA19",
        "colab_type": "text"
      },
      "cell_type": "markdown",
      "source": [
        "## 1. Cargar datos\n",
        "\n",
        "Para esta minitarea trabajaremos con la fotometría de algunas estrellas. El objetivo final de esta actividad es obtener un gráfico llamado **Diagrama de Color-Magnitud (CMD)**, este es una variante del [Diagrama de Hertzsprung Russell](https://en.wikipedia.org/wiki/Hertzsprung%E2%80%93Russell_diagram) (o diagrama HR) cuyo objetivo es ver la distribución en Brillo y Color (Luminosidad y Temperatura para el diagrama HR) de las estrellas de una población. Con este se puede reconocer las distintas etapas evolutivas en las que se encuentran las estrellas, sus edades y metalicidades. \n",
        "\n",
        "\n",
        "Comienza por cargar los datos de una población sintética. En el repositorio se encuentra el archivo de texto llamado **`phot.dat`** que contiene:\n",
        "\n",
        "1. Fotometría en las bandas B, V, R, I (magnitud aparente)\n",
        "2. Temperatura ($log_{10}(T_{eff} / K)$)\n",
        "3. Masa [$M_{\\odot}$]\n",
        "4. Distancia [kpc] \n",
        "\n",
        "\n",
        "* Carga los datos a formato `ndarray` en la variable `datos` e inspecciona su forma y tamaño, como tambien las diferentes columnas."
      ]
    },
    {
      "metadata": {
        "id": "GCDmzDAIpA2A",
        "colab_type": "code",
        "colab": {
          "base_uri": "https://localhost:8080/",
          "height": 510
        },
        "outputId": "0029c16e-a05d-483b-b11a-a1a80fed5718"
      },
      "cell_type": "code",
      "source": [
        "import numpy as np\n",
        "from math import *\n",
        "\n",
        "# Carga los datos a un ndarray\n",
        "\n",
        "archivo = 'https://raw.githubusercontent.com/astrodatos/minitarea2/master/phot.dat'\n",
        "datos = np.loadtxt(archivo)\n",
        "\n",
        "# Inspecciona su forma y tamaño\n",
        "shape=datos.shape\n",
        "size=datos.size\n",
        "print('Forma:')\n",
        "print(shape)\n",
        "print('\\nTamaño:')\n",
        "print(size)\n",
        "print('\\nColumna 1:')\n",
        "print(datos[:,0])\n",
        "print('\\nColumna 2:')\n",
        "print(datos[:,1])\n",
        "print('\\nColumna 3:')\n",
        "print(datos[:,2])\n",
        "print('\\nColumna 4:')\n",
        "print(datos[:,3])\n",
        "print('\\nColumna 5:')\n",
        "print(datos[:,4])\n",
        "print('\\nColumna 6:')\n",
        "print(datos[:,5])\n",
        "print('\\nColumna 7:')\n",
        "print(datos[:,6])\n",
        "R=np.random.randn(10000);\n",
        "print (R)"
      ],
      "execution_count": 86,
      "outputs": [
        {
          "output_type": "stream",
          "text": [
            "Forma:\n",
            "(5298, 7)\n",
            "\n",
            "Tamaño:\n",
            "37086\n",
            "\n",
            "Columna 1:\n",
            "[1.43318972 3.05953348 1.57848745 ... 4.79977225 5.45884546 4.23992507]\n",
            "\n",
            "Columna 2:\n",
            "[0.55800856 2.22205699 0.76497844 ... 4.00696032 4.47140036 3.45563476]\n",
            "\n",
            "Columna 3:\n",
            "[0.23628573 1.78027236 0.51246246 ... 3.57323265 4.05807828 3.01565666]\n",
            "\n",
            "Columna 4:\n",
            "[-0.10671427  1.42027236  0.19746246 ...  3.21823265  3.66407828\n",
            "  2.66465666]\n",
            "\n",
            "Columna 5:\n",
            "[3.7514 3.7411 3.7681 ... 3.7436 3.7208 3.7461]\n",
            "\n",
            "Columna 6:\n",
            "[1.263 0.972 1.227 ... 0.986 0.926 1.002]\n",
            "\n",
            "Columna 7:\n",
            "[2.92588428 3.02311363 2.83983097 ... 7.2987171  6.15482424 6.01632559]\n",
            "[-0.22023905 -0.77130099  0.28362737 ... -0.36903318 -0.73681486\n",
            "  0.11022931]\n"
          ],
          "name": "stdout"
        }
      ]
    },
    {
      "metadata": {
        "id": "5TUDtfmDpA2I",
        "colab_type": "text"
      },
      "cell_type": "markdown",
      "source": [
        "## 2. Histogramas\n",
        "\n",
        "El siguiente paso es inspeccionar los elementos en las diferentes columnas. Para ello crearás histogramas de algunas variables de interés. \n",
        "\n",
        "* Haz una figura con dos gráficos, uno al lado del otro, que contengan:\n",
        "\n",
        "    1. Un histograma con las distribuciones de las magnitudes en las bandas B y V\n",
        "    2. Un histograma con la distribución de masas\n",
        "\n",
        "No olvides poner nombres a los ejes, titulos, leyendas, etc. Se creativo en el estilo de tu gráfico!"
      ]
    },
    {
      "metadata": {
        "id": "rjHB5IvDpA2L",
        "colab_type": "code",
        "colab": {
          "base_uri": "https://localhost:8080/",
          "height": 519
        },
        "outputId": "64494161-747e-4bf0-b910-e2f952ae085f"
      },
      "cell_type": "code",
      "source": [
        "#Plotear histogramas de cada columna\n",
        "\n",
        "import matplotlib.pyplot as plt\n",
        "%matplotlib inline\n",
        "\n",
        "#Primero se crean los arreglos:\n",
        "bandas_B=datos[:,0]\n",
        "bandas_V=datos[:,1]\n",
        "distancias=datos[:,6]\n",
        "\n",
        "#Clacular promedio y desviación estandar de cada arreglo:\n",
        "prom_B=bandas_B.mean()\n",
        "sigma_B=bandas_B.std()\n",
        "\n",
        "prom_V=bandas_V.mean()\n",
        "sigma_V=bandas_V.std()\n",
        "\n",
        "prom_distancias=distancias.mean()\n",
        "sigma_distancias=distancias.std()\n",
        "#prom_distancias+sigma_distancias*R\n",
        "#prom_V+sigma_V*R\n",
        "#Se crea la figura con dos columnas\n",
        "fig, ax = plt.subplots(figsize=(15,5), ncols=2)\n",
        "#R=np.random.randn(10000);\n",
        "\n",
        "#Se rellena la figura con los histogramas:\n",
        "ax[0].set_title('Distribucion de Bandas B y V')\n",
        "ax[0].set_xlabel('Bandas')\n",
        "ax[0].set_ylabel('Cantidad de Estrellas')\n",
        "#ax[0].text(-1, 1400, r'$\\mu=100,\\ \\sigma=15$')\n",
        "ax[0].hist(bandas_B, 20, facecolor='g', alpha=0.5)\n",
        "ax[0].hist(bandas_V, 20, facecolor='y', alpha=0.4)\n",
        "\n",
        "\n",
        "ax[1].set_title('Distribucion de Distancias')\n",
        "ax[1].set_xlabel('Distancias [kpc]')\n",
        "ax[1].set_ylabel('Cantidad de Estrellas')\n",
        "ax[1].hist(distancias, 20, facecolor='pink', alpha=1)\n",
        "\n",
        "\n",
        "\n",
        "\n",
        "\n"
      ],
      "execution_count": 118,
      "outputs": [
        {
          "output_type": "execute_result",
          "data": {
            "text/plain": [
              "(array([1.000e+00, 1.300e+01, 3.343e+03, 1.149e+03, 3.000e+00, 1.800e+01,\n",
              "        2.300e+01, 3.700e+01, 6.200e+01, 9.500e+01, 1.190e+02, 1.260e+02,\n",
              "        1.000e+02, 7.400e+01, 5.700e+01, 4.100e+01, 2.100e+01, 6.000e+00,\n",
              "        7.000e+00, 3.000e+00]),\n",
              " array([1.99578392, 2.35116067, 2.70653742, 3.06191417, 3.41729092,\n",
              "        3.77266767, 4.12804442, 4.48342117, 4.83879792, 5.19417467,\n",
              "        5.54955142, 5.90492817, 6.26030492, 6.61568167, 6.97105842,\n",
              "        7.32643517, 7.68181192, 8.03718867, 8.39256542, 8.74794217,\n",
              "        9.10331892]),\n",
              " <a list of 20 Patch objects>)"
            ]
          },
          "metadata": {
            "tags": []
          },
          "execution_count": 118
        },
        {
          "output_type": "display_data",
          "data": {
            "image/png": "[encoded data removed]",
            "text/plain": [
              "<Figure size 1080x360 with 2 Axes>"
            ]
          },
          "metadata": {
            "tags": []
          }
        }
      ]
    },
    {
      "metadata": {
        "id": "-9sx-WLvpA2U",
        "colab_type": "text"
      },
      "cell_type": "markdown",
      "source": [
        "## 3. Filtrar datos\n",
        "\n",
        "Como te habrás dado cuenta hay dos distribuciones de distancia. La mayoría de las estrellas corresponden a la población sintética creada, mientras que el resto son estrellas de fondo. Para estudiar nuestro cúmulo, primero debemos filtrar las estrellas que no pertenecen a él. \n",
        "\n",
        "* Haz una copia del set de datos originales en la variable `datos_filtrados` y sólo utiliza las estrellas que cumplan con un criterio basado en el histograma anterior.\n",
        "* Imprime en pantalla el tamaño original del set de datos y del nuevo filtrado con el siguiente formato: _\"El set original contenía X estrellas, luego de filtrar quedaron X\"_\n"
      ]
    },
    {
      "metadata": {
        "id": "fKZ5rO66pA2X",
        "colab_type": "code",
        "colab": {
          "base_uri": "https://localhost:8080/",
          "height": 34
        },
        "outputId": "cf7fd359-b7fc-4a1b-c546-2dcc25ec062c"
      },
      "cell_type": "code",
      "source": [
        "#Filtrar por distancia\n",
        "datos_filtrados = datos.copy()\n",
        "datos_filtrados = datos_filtrados[datos_filtrados[:,6]<4]\n",
        "\n",
        "#Guardar en variables la forma inicial y final del arreglo\n",
        "Forma_inicial = datos.shape\n",
        "Forma_final = datos_filtrados.shape\n",
        "\n",
        "#Extraer la cantidad de filas (estrellas) del arreglo inicial y final\n",
        "\n",
        "estrellas_iniciales = Forma_inicial[0]\n",
        "estrellas_finales = Forma_final[0]\n",
        "\n",
        "\n",
        "print('El set original contenía '+str(estrellas_iniciales)+' estrellas, luego de filtrar quedaron '+str(estrellas_finales)) "
      ],
      "execution_count": 120,
      "outputs": [
        {
          "output_type": "stream",
          "text": [
            "El set original contenía 5298 estrellas, luego de filtrar quedaron 4520\n"
          ],
          "name": "stdout"
        }
      ]
    },
    {
      "metadata": {
        "id": "qhaMsEYTpA2e",
        "colab_type": "text"
      },
      "cell_type": "markdown",
      "source": [
        "## 4. Función Magnitud Absoluta\n",
        "\n",
        "Para hacer el CMD necesitamos la magnitud absoluta de nuestras estrellas. Para esto crearemos una función que la calcule.\n",
        "\n",
        "* Crea la función **`mag_abs(mag_ap, dist)`** de la siguiente forma:\n",
        "    * **Input:** \n",
        "        1. `mag_ap`: ndarray de magnitudes aparentes\n",
        "        2. `dist`: ndarray de distancias en unidades de [parsec]\n",
        "    * **Output:**\n",
        "        1. `mag_abs`: ndarray de magnitudes absolutas calculadas como: $M = m - 5 \\log_{10} (d_{pc}) + 5 $"
      ]
    },
    {
      "metadata": {
        "id": "yLuIIWUIpA2g",
        "colab_type": "code",
        "colab": {
          "base_uri": "https://localhost:8080/",
          "height": 51
        },
        "outputId": "70ab7431-6a05-442f-a528-6b5beda0d207"
      },
      "cell_type": "code",
      "source": [
        "#Funcion mag_abs(mag, dist)\n",
        "\n"
      ],
      "execution_count": 77,
      "outputs": [
        {
          "output_type": "execute_result",
          "data": {
            "text/plain": [
              "array([-11.77327717, -10.18021536, -11.50148402, ..., -10.30927233,\n",
              "        -9.47467792, -10.44102189])"
            ]
          },
          "metadata": {
            "tags": []
          },
          "execution_count": 77
        }
      ]
    },
    {
      "metadata": {
        "id": "X05BUz2ApA2m",
        "colab_type": "text"
      },
      "cell_type": "markdown",
      "source": [
        "## 5. CMD\n",
        "\n",
        "Ahora podemos graficar nuestro Diagrama Color Magnitud. \n",
        "\n",
        "* Crea los siguientes arreglos:\n",
        "    1. `MV`: magnitud absoluta en la banda V\n",
        "    2. `color`: resta entre las magnitudes B y V (B-V)\n",
        "* Grafica MV vs color como se muestra en la siguiente [figura](https://www.astro.rug.nl/~ahelmi/galaxies_course/class_II/47tuc.gif). (**Hint: pon atención a los ejes)"
      ]
    },
    {
      "metadata": {
        "id": "fS9h8ki9pA2o",
        "colab_type": "code",
        "colab": {}
      },
      "cell_type": "code",
      "source": [
        "#Crear arrays MV y color\n",
        "\n",
        "MV=\n",
        "    \n",
        "color=\n",
        "\n",
        "#plot cmd\n",
        "\n"
      ],
      "execution_count": 0,
      "outputs": []
    },
    {
      "metadata": {
        "id": "0zHZr-_dpA2z",
        "colab_type": "text"
      },
      "cell_type": "markdown",
      "source": [
        "## 6. Densidades y otros\n",
        "\n",
        "Ahora crearemos gráficos con un poco más de información en color. \n",
        "* Haz una figura con dos gráficos, uno al lado del otro:\n",
        "    1. `MV vs color`, poninedo las masas de cada estrella en color (recuerda la barra de colores)\n",
        "    2. `MV vs color`, poniendo la Temperatura de cada estrella en color\n",
        "* Haz una figura con un gráfico que contenga:\n",
        "    1. [Histograma en 2D](https://matplotlib.org/api/_as_gen/matplotlib.pyplot.hist2d.html) con ejes `MV vs color` (esta figura muestra la densidad de estrellas en el espacio `MV vs color`)\n",
        "    \n",
        "No olvides poner **SIEMPRE** ejes a tus figuras, titulos, leyendas, etc. Elige mapas de colores donde se noten las características de los gráficos."
      ]
    },
    {
      "metadata": {
        "id": "Y18_53MVpA22",
        "colab_type": "code",
        "colab": {}
      },
      "cell_type": "code",
      "source": [
        "# plot cmd + masa / smd + temp"
      ],
      "execution_count": 0,
      "outputs": []
    },
    {
      "metadata": {
        "id": "85qPjOHHpA2-",
        "colab_type": "code",
        "colab": {}
      },
      "cell_type": "code",
      "source": [
        "# plot cmd hist2D"
      ],
      "execution_count": 0,
      "outputs": []
    }
  ]
}